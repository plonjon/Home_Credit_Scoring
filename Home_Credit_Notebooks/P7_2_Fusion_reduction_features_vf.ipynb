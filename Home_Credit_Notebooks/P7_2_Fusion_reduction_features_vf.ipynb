{
 "cells": [
  {
   "cell_type": "markdown",
   "metadata": {},
   "source": [
    "# Projet 7 : Implémentez un modèle de scoring\n",
    "*Philippe LONJON (janvier 2020)*\n",
    "\n",
    "---\n",
    "Ce projet consiste à développer un modèle de scoring, qui donnera une prédiction sur la probabilité de faillite d'un client qui demande un prêt.\n",
    "Il s'agit d'un problème :\n",
    "* **Supervisé** : Les étiquettes (Défauts de crédit) sont connus\n",
    "* **Classification** : Les valeurs à prédire sont des variables qualitatives\n",
    "---\n",
    "## Notebook 2 : Fusion des tables, réduction des features\n",
    "Le notebook comprend :\n",
    "- la jointure des tables créées dans le notebook 1\n",
    "- le retrait de variables avec de fortes corrélations\n",
    "- le retrait de variables avec trop de valeurs manquantes\n",
    "\n",
    "Les données à utiliser, ont été nettoyées et préparées dans le notebook précédent, et se trouvent dans le répertoire : `data/features`"
   ]
  },
  {
   "cell_type": "markdown",
   "metadata": {},
   "source": [
    "#### Chargement des packages\n",
    "Afin de ne pas surcharger les notebooks, les fonctions créées, sont regroupées dans un module ``fonctions08``."
   ]
  },
  {
   "cell_type": "code",
   "execution_count": 1,
   "metadata": {},
   "outputs": [],
   "source": [
    "import numpy as np\n",
    "import pandas as pd\n",
    "\n",
    "# Librairies machine learning\n",
    "from sklearn.model_selection import train_test_split\n",
    "\n",
    "# Module des fonctions du notebook\n",
    "import fonctions08 as f\n",
    "\n",
    "# Divers\n",
    "from time import time, strftime, gmtime\n",
    "import gc\n",
    "\n",
    "# Heure démarrage\n",
    "t0=time()\n",
    "\n",
    "# Autoreload pour prise en compte des changments dans le module fonctions\n",
    "%load_ext autoreload\n",
    "%autoreload 1\n",
    "%aimport fonctions08"
   ]
  },
  {
   "cell_type": "code",
   "execution_count": 2,
   "metadata": {},
   "outputs": [],
   "source": [
    "# Constantes\n",
    "random_state = 1"
   ]
  },
  {
   "cell_type": "markdown",
   "metadata": {},
   "source": [
    "Pour optimiser la RAM utilisée, nous allons surveiller les variables créées, et supprimer celles devenues inutiles."
   ]
  },
  {
   "cell_type": "code",
   "execution_count": 3,
   "metadata": {},
   "outputs": [],
   "source": [
    "# Fonction pour lister les variables créées\n",
    "def var_active(var_init=[]):\n",
    "    \"\"\"\n",
    "    Input : list of variables to remove from the result\n",
    "    Return : list of variables created by the script\n",
    "    \"\"\"\n",
    "    var_list = [ var for var in globals() if var not in var_init and not var.startswith('_')]\n",
    "    return var_list\n",
    "\n",
    "# Liste des variables intiales à ne pas prendre en compte\n",
    "var_init = dir()\n",
    "var_init.append(['var_init', 'var_active'])"
   ]
  },
  {
   "cell_type": "markdown",
   "metadata": {},
   "source": [
    "## 1. Table principale\n",
    "La table principale est celle qui regroupe les informations concernant le client et la demande d'emprunt, ainsi que les étiquettes à prédire."
   ]
  },
  {
   "cell_type": "code",
   "execution_count": 4,
   "metadata": {},
   "outputs": [
    {
     "name": "stdout",
     "output_type": "stream",
     "text": [
      "Memory usage of dataframe is 300.30 MB\n",
      "Memory usage after optimization is: 62.47 MB\n",
      "Decreased by 79.2%\n"
     ]
    }
   ],
   "source": [
    "# Chargement dataframe\n",
    "df_raw = f.import_csv(\"data/features/features_application.csv\", nrows=None)"
   ]
  },
  {
   "cell_type": "markdown",
   "metadata": {},
   "source": [
    "Notre jeu de données compte 307 511 entrées."
   ]
  },
  {
   "cell_type": "code",
   "execution_count": 5,
   "metadata": {},
   "outputs": [
    {
     "name": "stdout",
     "output_type": "stream",
     "text": [
      "Shape : 307511 entries and 128 columns\n",
      "No duplicate values : True\n",
      "SK_ID_CURR is a primary key : True\n"
     ]
    }
   ],
   "source": [
    "# Selection lignes / colonnes\n",
    "df = df_raw.iloc[:, :]\n",
    "df = df.fillna(np.nan)\n",
    "\n",
    "# description du dataframe\n",
    "f.df_info(df, keep=True)\n",
    "f.check_key(df, ['SK_ID_CURR'])"
   ]
  },
  {
   "cell_type": "code",
   "execution_count": 6,
   "metadata": {},
   "outputs": [
    {
     "data": {
      "text/html": [
       "<div>\n",
       "<style scoped>\n",
       "    .dataframe tbody tr th:only-of-type {\n",
       "        vertical-align: middle;\n",
       "    }\n",
       "\n",
       "    .dataframe tbody tr th {\n",
       "        vertical-align: top;\n",
       "    }\n",
       "\n",
       "    .dataframe thead th {\n",
       "        text-align: right;\n",
       "    }\n",
       "</style>\n",
       "<table border=\"1\" class=\"dataframe\">\n",
       "  <thead>\n",
       "    <tr style=\"text-align: right;\">\n",
       "      <th></th>\n",
       "      <th>SK_ID_CURR</th>\n",
       "      <th>TARGET</th>\n",
       "      <th>application_NAME_CONTRACT_TYPE</th>\n",
       "      <th>application_CODE_GENDER</th>\n",
       "      <th>application_FLAG_OWN_CAR</th>\n",
       "      <th>application_FLAG_OWN_REALTY</th>\n",
       "      <th>application_CNT_CHILDREN</th>\n",
       "      <th>application_AMT_INCOME_TOTAL</th>\n",
       "      <th>application_AMT_CREDIT</th>\n",
       "      <th>application_AMT_ANNUITY</th>\n",
       "      <th>...</th>\n",
       "      <th>application_AMT_REQ_CREDIT_BUREAU_WEEK</th>\n",
       "      <th>application_AMT_REQ_CREDIT_BUREAU_MON</th>\n",
       "      <th>application_AMT_REQ_CREDIT_BUREAU_QRT</th>\n",
       "      <th>application_AMT_REQ_CREDIT_BUREAU_YEAR</th>\n",
       "      <th>application_AMT_DURATION</th>\n",
       "      <th>application_ANNUITY_INCOME_RATIO</th>\n",
       "      <th>application_CREDIT_INCOME_RATIO</th>\n",
       "      <th>application_GOODS_CREDIT_RATIO</th>\n",
       "      <th>application_EMPLOYED_BIRTH_RATIO</th>\n",
       "      <th>application_EXT_SOURCE_ALL</th>\n",
       "    </tr>\n",
       "  </thead>\n",
       "  <tbody>\n",
       "    <tr>\n",
       "      <th>0</th>\n",
       "      <td>100002</td>\n",
       "      <td>1</td>\n",
       "      <td>Cash loans</td>\n",
       "      <td>M</td>\n",
       "      <td>N</td>\n",
       "      <td>Y</td>\n",
       "      <td>0</td>\n",
       "      <td>202500.0</td>\n",
       "      <td>406597.5</td>\n",
       "      <td>24700.5</td>\n",
       "      <td>...</td>\n",
       "      <td>0.0</td>\n",
       "      <td>0.0</td>\n",
       "      <td>0.0</td>\n",
       "      <td>1.0</td>\n",
       "      <td>16.46875</td>\n",
       "      <td>0.121948</td>\n",
       "      <td>2.007812</td>\n",
       "      <td>0.863281</td>\n",
       "      <td>0.067322</td>\n",
       "      <td>0.161743</td>\n",
       "    </tr>\n",
       "    <tr>\n",
       "      <th>1</th>\n",
       "      <td>100003</td>\n",
       "      <td>0</td>\n",
       "      <td>Cash loans</td>\n",
       "      <td>F</td>\n",
       "      <td>N</td>\n",
       "      <td>N</td>\n",
       "      <td>0</td>\n",
       "      <td>270000.0</td>\n",
       "      <td>1293502.5</td>\n",
       "      <td>35698.5</td>\n",
       "      <td>...</td>\n",
       "      <td>0.0</td>\n",
       "      <td>0.0</td>\n",
       "      <td>0.0</td>\n",
       "      <td>0.0</td>\n",
       "      <td>36.21875</td>\n",
       "      <td>0.132202</td>\n",
       "      <td>4.789062</td>\n",
       "      <td>0.873047</td>\n",
       "      <td>0.070862</td>\n",
       "      <td>0.466797</td>\n",
       "    </tr>\n",
       "    <tr>\n",
       "      <th>2</th>\n",
       "      <td>100004</td>\n",
       "      <td>0</td>\n",
       "      <td>Revolving loans</td>\n",
       "      <td>M</td>\n",
       "      <td>Y</td>\n",
       "      <td>Y</td>\n",
       "      <td>0</td>\n",
       "      <td>67500.0</td>\n",
       "      <td>135000.0</td>\n",
       "      <td>6750.0</td>\n",
       "      <td>...</td>\n",
       "      <td>0.0</td>\n",
       "      <td>0.0</td>\n",
       "      <td>0.0</td>\n",
       "      <td>0.0</td>\n",
       "      <td>20.00000</td>\n",
       "      <td>0.099976</td>\n",
       "      <td>2.000000</td>\n",
       "      <td>1.000000</td>\n",
       "      <td>0.011810</td>\n",
       "      <td>0.642578</td>\n",
       "    </tr>\n",
       "    <tr>\n",
       "      <th>3</th>\n",
       "      <td>100006</td>\n",
       "      <td>0</td>\n",
       "      <td>Cash loans</td>\n",
       "      <td>F</td>\n",
       "      <td>N</td>\n",
       "      <td>Y</td>\n",
       "      <td>0</td>\n",
       "      <td>135000.0</td>\n",
       "      <td>312682.5</td>\n",
       "      <td>29686.5</td>\n",
       "      <td>...</td>\n",
       "      <td>NaN</td>\n",
       "      <td>NaN</td>\n",
       "      <td>NaN</td>\n",
       "      <td>NaN</td>\n",
       "      <td>10.53125</td>\n",
       "      <td>0.219849</td>\n",
       "      <td>2.316406</td>\n",
       "      <td>0.949707</td>\n",
       "      <td>0.159912</td>\n",
       "      <td>0.650391</td>\n",
       "    </tr>\n",
       "    <tr>\n",
       "      <th>4</th>\n",
       "      <td>100007</td>\n",
       "      <td>0</td>\n",
       "      <td>Cash loans</td>\n",
       "      <td>M</td>\n",
       "      <td>N</td>\n",
       "      <td>Y</td>\n",
       "      <td>0</td>\n",
       "      <td>121500.0</td>\n",
       "      <td>513000.0</td>\n",
       "      <td>21865.5</td>\n",
       "      <td>...</td>\n",
       "      <td>0.0</td>\n",
       "      <td>0.0</td>\n",
       "      <td>0.0</td>\n",
       "      <td>0.0</td>\n",
       "      <td>23.46875</td>\n",
       "      <td>0.179932</td>\n",
       "      <td>4.222656</td>\n",
       "      <td>1.000000</td>\n",
       "      <td>0.152466</td>\n",
       "      <td>0.322754</td>\n",
       "    </tr>\n",
       "  </tbody>\n",
       "</table>\n",
       "<p>5 rows × 128 columns</p>\n",
       "</div>"
      ],
      "text/plain": [
       "   SK_ID_CURR  TARGET application_NAME_CONTRACT_TYPE application_CODE_GENDER  \\\n",
       "0      100002       1                     Cash loans                       M   \n",
       "1      100003       0                     Cash loans                       F   \n",
       "2      100004       0                Revolving loans                       M   \n",
       "3      100006       0                     Cash loans                       F   \n",
       "4      100007       0                     Cash loans                       M   \n",
       "\n",
       "  application_FLAG_OWN_CAR application_FLAG_OWN_REALTY  \\\n",
       "0                        N                           Y   \n",
       "1                        N                           N   \n",
       "2                        Y                           Y   \n",
       "3                        N                           Y   \n",
       "4                        N                           Y   \n",
       "\n",
       "   application_CNT_CHILDREN  application_AMT_INCOME_TOTAL  \\\n",
       "0                         0                      202500.0   \n",
       "1                         0                      270000.0   \n",
       "2                         0                       67500.0   \n",
       "3                         0                      135000.0   \n",
       "4                         0                      121500.0   \n",
       "\n",
       "   application_AMT_CREDIT  application_AMT_ANNUITY  ...  \\\n",
       "0                406597.5                  24700.5  ...   \n",
       "1               1293502.5                  35698.5  ...   \n",
       "2                135000.0                   6750.0  ...   \n",
       "3                312682.5                  29686.5  ...   \n",
       "4                513000.0                  21865.5  ...   \n",
       "\n",
       "   application_AMT_REQ_CREDIT_BUREAU_WEEK  \\\n",
       "0                                     0.0   \n",
       "1                                     0.0   \n",
       "2                                     0.0   \n",
       "3                                     NaN   \n",
       "4                                     0.0   \n",
       "\n",
       "  application_AMT_REQ_CREDIT_BUREAU_MON application_AMT_REQ_CREDIT_BUREAU_QRT  \\\n",
       "0                                   0.0                                   0.0   \n",
       "1                                   0.0                                   0.0   \n",
       "2                                   0.0                                   0.0   \n",
       "3                                   NaN                                   NaN   \n",
       "4                                   0.0                                   0.0   \n",
       "\n",
       "  application_AMT_REQ_CREDIT_BUREAU_YEAR application_AMT_DURATION  \\\n",
       "0                                    1.0                 16.46875   \n",
       "1                                    0.0                 36.21875   \n",
       "2                                    0.0                 20.00000   \n",
       "3                                    NaN                 10.53125   \n",
       "4                                    0.0                 23.46875   \n",
       "\n",
       "  application_ANNUITY_INCOME_RATIO  application_CREDIT_INCOME_RATIO  \\\n",
       "0                         0.121948                         2.007812   \n",
       "1                         0.132202                         4.789062   \n",
       "2                         0.099976                         2.000000   \n",
       "3                         0.219849                         2.316406   \n",
       "4                         0.179932                         4.222656   \n",
       "\n",
       "   application_GOODS_CREDIT_RATIO  application_EMPLOYED_BIRTH_RATIO  \\\n",
       "0                        0.863281                          0.067322   \n",
       "1                        0.873047                          0.070862   \n",
       "2                        1.000000                          0.011810   \n",
       "3                        0.949707                          0.159912   \n",
       "4                        1.000000                          0.152466   \n",
       "\n",
       "   application_EXT_SOURCE_ALL  \n",
       "0                    0.161743  \n",
       "1                    0.466797  \n",
       "2                    0.642578  \n",
       "3                    0.650391  \n",
       "4                    0.322754  \n",
       "\n",
       "[5 rows x 128 columns]"
      ]
     },
     "execution_count": 6,
     "metadata": {},
     "output_type": "execute_result"
    }
   ],
   "source": [
    "# Aperçu des données\n",
    "df.head()"
   ]
  },
  {
   "cell_type": "markdown",
   "metadata": {},
   "source": [
    "Nous identifions les variables qualitatives et quantitatives."
   ]
  },
  {
   "cell_type": "code",
   "execution_count": 7,
   "metadata": {},
   "outputs": [
    {
     "name": "stdout",
     "output_type": "stream",
     "text": [
      "Les données comprennent 16 variables qualitatives et 112 variables quantitatives\n",
      "\n",
      "Distribution de la variable cible :\n"
     ]
    },
    {
     "data": {
      "text/plain": [
       "0    282686\n",
       "1     24825\n",
       "Name: TARGET, dtype: int64"
      ]
     },
     "execution_count": 7,
     "metadata": {},
     "output_type": "execute_result"
    }
   ],
   "source": [
    "# Listes des variables qualitatives et quantitatives\n",
    "cols_categorical = df.select_dtypes(include='category').columns.tolist()\n",
    "cols_numeric = df.select_dtypes(exclude='category').columns.tolist()\n",
    "\n",
    "print(f\"Les données comprennent {len(cols_categorical)} variables qualitatives\"\n",
    "      f\" et {len(cols_numeric)} variables quantitatives\")\n",
    "\n",
    "# Distribution de l'étiquette\n",
    "print(\"\\nDistribution de la variable cible :\")\n",
    "df['TARGET'].value_counts()"
   ]
  },
  {
   "cell_type": "markdown",
   "metadata": {},
   "source": [
    "### 1.1 Création des données d'entrainement et de test\n",
    "Nous séparons nos données, le jeu de test ne sera utilisée qu'à la fin pour l'évaluation du modèle."
   ]
  },
  {
   "cell_type": "code",
   "execution_count": 8,
   "metadata": {},
   "outputs": [],
   "source": [
    "# Creation d'un jeu d'entrainement et de test\n",
    "df_train, df_test = train_test_split(df, test_size=0.3,\n",
    "                                     stratify=df['TARGET'],\n",
    "                                     random_state=random_state)"
   ]
  },
  {
   "cell_type": "markdown",
   "metadata": {},
   "source": [
    "### 1.2 Encoding des variables qualitatives\n",
    "Nous faisons un one-hot encoding des variables qualitatives, sur la base du jeu d'entrainement."
   ]
  },
  {
   "cell_type": "code",
   "execution_count": 9,
   "metadata": {},
   "outputs": [
    {
     "name": "stdout",
     "output_type": "stream",
     "text": [
      "(215257, 249)\n",
      "(92254, 249)\n"
     ]
    }
   ],
   "source": [
    "# One hot encoding des variables qualitatives des jeux de données\n",
    "df_train_encoded = pd.get_dummies(df_train)\n",
    "df_test_encoded = pd.get_dummies(df_test)\n",
    "\n",
    "# Alignement des colonnes de du jeu de test sur celui du train\n",
    "df_train_encoded, df_test_encoded = df_train_encoded.align(df_test_encoded, join = 'left', axis=1)\n",
    "\n",
    "print(df_train_encoded.shape)\n",
    "print(df_test_encoded.shape)"
   ]
  },
  {
   "cell_type": "markdown",
   "metadata": {},
   "source": [
    "### 1.3 Gestion de la RAM\n",
    "Nous listons les variables, puis supprimons celles qui ne seront plus utilisées."
   ]
  },
  {
   "cell_type": "code",
   "execution_count": 10,
   "metadata": {},
   "outputs": [
    {
     "data": {
      "text/plain": [
       "['var_init',\n",
       " 'df_raw',\n",
       " 'df',\n",
       " 'cols_categorical',\n",
       " 'cols_numeric',\n",
       " 'df_train',\n",
       " 'df_test',\n",
       " 'df_train_encoded',\n",
       " 'df_test_encoded']"
      ]
     },
     "execution_count": 10,
     "metadata": {},
     "output_type": "execute_result"
    }
   ],
   "source": [
    "# Variables à supprimer pour libérer de la mémoire\n",
    "var_active(var_init=var_init)"
   ]
  },
  {
   "cell_type": "code",
   "execution_count": 11,
   "metadata": {},
   "outputs": [
    {
     "name": "stdout",
     "output_type": "stream",
     "text": [
      "svmem(total=34322874368, available=30244098048, percent=11.9, used=4078776320, free=30244098048)\n",
      "Mémoire utilisée : 438 Mb\n",
      "svmem(total=34322874368, available=30376243200, percent=11.5, used=3946631168, free=30376243200)\n",
      "Mémoire utilisée : 309 Mb\n"
     ]
    }
   ],
   "source": [
    "# Mémoire avant suppression\n",
    "print(f\"Mémoire utilisée : {f.memory_usage():.0f} Mb\")\n",
    "\n",
    "# Suppression des variables pour libérer de la mémoire\n",
    "gc.enable()\n",
    "del df_raw, df, cols_categorical, cols_numeric\n",
    "del df_train, df_test\n",
    "gc.collect()\n",
    "\n",
    "# Mémoire après suppression\n",
    "print(f\"Mémoire utilisée : {f.memory_usage():.0f} Mb\")"
   ]
  },
  {
   "cell_type": "markdown",
   "metadata": {},
   "source": [
    "## 2. Jointures des tables complémentaires\n",
    "Les jeux de données d'entrainement et de test étant crées, on peut leur joindre les informations des tables complémentaires.<br>\n",
    "On commence par charger les tables :"
   ]
  },
  {
   "cell_type": "code",
   "execution_count": 12,
   "metadata": {
    "scrolled": true
   },
   "outputs": [
    {
     "name": "stdout",
     "output_type": "stream",
     "text": [
      "Memory usage of dataframe is 237.98 MB\n",
      "Memory usage after optimization is: 65.91 MB\n",
      "Decreased by 72.3%\n",
      "Memory usage of dataframe is 46.66 MB\n",
      "Memory usage after optimization is: 11.37 MB\n",
      "Decreased by 75.6%\n",
      "Memory usage of dataframe is 959.14 MB\n",
      "Memory usage after optimization is: 218.78 MB\n",
      "Decreased by 77.2%\n",
      "Memory usage of dataframe is 244.44 MB\n",
      "Memory usage after optimization is: 72.04 MB\n",
      "Decreased by 70.5%\n",
      "Memory usage of dataframe is 281.27 MB\n",
      "Memory usage after optimization is: 109.33 MB\n",
      "Decreased by 61.1%\n",
      "Memory usage of dataframe is 443.03 MB\n",
      "Memory usage after optimization is: 157.72 MB\n",
      "Decreased by 64.4%\n"
     ]
    }
   ],
   "source": [
    "# Chargement fichiers\n",
    "bureau = f.import_csv(\"data/features/features_bureau.csv\")\n",
    "bureau_balance = f.import_csv(\"data/features/features_bureau_balance.csv\")\n",
    "previous_application = f.import_csv(\"data/features/features_previous_application.csv\")\n",
    "cash_balance = f.import_csv(\"data/features/features_cash_balance.csv\")\n",
    "card_balance = f.import_csv(\"data/features/features_card_balance.csv\")\n",
    "installments_payments = f.import_csv(\"data/features/features_installments_payments.csv\")"
   ]
  },
  {
   "cell_type": "code",
   "execution_count": 13,
   "metadata": {},
   "outputs": [
    {
     "name": "stdout",
     "output_type": "stream",
     "text": [
      "svmem(total=34322874368, available=29753827328, percent=13.3, used=4569047040, free=29753827328)\n",
      "Mémoire utilisée : 957 Mb\n"
     ]
    }
   ],
   "source": [
    "# Mémoire démarrage\n",
    "print(f\"Mémoire utilisée : {f.memory_usage():.0f} Mb\")"
   ]
  },
  {
   "cell_type": "markdown",
   "metadata": {},
   "source": [
    "### 2.1 Jointure des tables aux données d'entrainement\n",
    "On peut alors faire la jointure sur les données d'entrainement."
   ]
  },
  {
   "cell_type": "code",
   "execution_count": 14,
   "metadata": {},
   "outputs": [],
   "source": [
    "# Jointure donénes entrainement\n",
    "df_train = df_train_encoded\\\n",
    "    .merge(bureau, on='SK_ID_CURR', how='left')\\\n",
    "    .merge(bureau_balance, on='SK_ID_CURR', how='left')\\\n",
    "    .merge(previous_application, on='SK_ID_CURR', how='left')\\\n",
    "    .merge(cash_balance, on='SK_ID_CURR', how='left')\\\n",
    "    .merge(card_balance, on='SK_ID_CURR', how='left')\\\n",
    "    .merge(installments_payments, on='SK_ID_CURR', how='left')"
   ]
  },
  {
   "cell_type": "markdown",
   "metadata": {},
   "source": [
    "### 2.2 Jointure des tables aux données de test\n",
    "On fait également la jointure sur les données de test."
   ]
  },
  {
   "cell_type": "code",
   "execution_count": 15,
   "metadata": {},
   "outputs": [],
   "source": [
    "#Jointure données test\n",
    "df_test = df_test_encoded\\\n",
    "    .merge(bureau, on='SK_ID_CURR', how='left')\\\n",
    "    .merge(bureau_balance, on='SK_ID_CURR', how='left')\\\n",
    "    .merge(previous_application, on='SK_ID_CURR', how='left')\\\n",
    "    .merge(cash_balance, on='SK_ID_CURR', how='left')\\\n",
    "    .merge(card_balance, on='SK_ID_CURR', how='left')\\\n",
    "    .merge(installments_payments, on='SK_ID_CURR', how='left')"
   ]
  },
  {
   "cell_type": "markdown",
   "metadata": {},
   "source": [
    "### 2.3 Finalisation des données d'entrée du modèle\n",
    "On s'assure que les données de test sont bien alignées sur les données d'entrainement."
   ]
  },
  {
   "cell_type": "code",
   "execution_count": 16,
   "metadata": {},
   "outputs": [
    {
     "name": "stdout",
     "output_type": "stream",
     "text": [
      "(215257, 1358)\n",
      "(92254, 1358)\n"
     ]
    }
   ],
   "source": [
    "print(df_train.shape)\n",
    "print(df_test.shape)\n",
    "\n",
    "# Alignement des colonnes de du jeu de test sur celui du train\n",
    "df_train, df_test = df_train.align(df_test, join = 'left', axis=1)"
   ]
  },
  {
   "cell_type": "markdown",
   "metadata": {},
   "source": [
    "On extrait les identifiants clients et les étiquettes qui ne seront pas des variables d'entrée pour le modèle à venir."
   ]
  },
  {
   "cell_type": "code",
   "execution_count": 17,
   "metadata": {},
   "outputs": [],
   "source": [
    "# Indentifiant en index\n",
    "df_train = df_train.set_index('SK_ID_CURR')\n",
    "df_test = df_test.set_index('SK_ID_CURR')\n",
    "\n",
    "# Extraction des étiquettes\n",
    "train_target = df_train[['TARGET']]\n",
    "test_target = df_test[['TARGET']]\n",
    "\n",
    "# Suppression des étiquettes des features\n",
    "df_train = df_train.drop(columns=['TARGET'], axis=1)\n",
    "df_test = df_test.drop(columns=['TARGET'], axis=1)"
   ]
  },
  {
   "cell_type": "markdown",
   "metadata": {},
   "source": [
    "### 2.4 Gestion RAM\n",
    "On supprime les variables qui ne seront plus utilisées"
   ]
  },
  {
   "cell_type": "code",
   "execution_count": 18,
   "metadata": {},
   "outputs": [
    {
     "name": "stdout",
     "output_type": "stream",
     "text": [
      "svmem(total=34322874368, available=27510366208, percent=19.8, used=6812508160, free=27510366208)\n",
      "Mémoire utilisée : 3082 Mb\n",
      "svmem(total=34322874368, available=28923994112, percent=15.7, used=5398880256, free=28923994112)\n",
      "Mémoire utilisée : 1734 Mb\n"
     ]
    }
   ],
   "source": [
    "# Mémoire avant suppression\n",
    "print(f\"Mémoire utilisée : {f.memory_usage():.0f} Mb\")\n",
    "\n",
    "# Suppression des variables pour libérer de la mémoire\n",
    "gc.enable()\n",
    "del df_train_encoded, df_test_encoded\n",
    "del bureau, bureau_balance, previous_application\n",
    "del cash_balance, card_balance, installments_payments\n",
    "gc.collect()\n",
    "\n",
    "# Mémoire après suppression\n",
    "print(f\"Mémoire utilisée : {f.memory_usage():.0f} Mb\")"
   ]
  },
  {
   "cell_type": "markdown",
   "metadata": {},
   "source": [
    "# 3. Retrait des variables avec forte corrélation\n",
    "On retire les variables ayant des corrélations supérieures à 0.9, qui apportent peu d'information pour le\n",
    "modèle, mais augmentent sa complexité."
   ]
  },
  {
   "cell_type": "code",
   "execution_count": 19,
   "metadata": {},
   "outputs": [
    {
     "name": "stdout",
     "output_type": "stream",
     "text": [
      "Il y a 541 colonnes corrélées à supprimer.\n"
     ]
    }
   ],
   "source": [
    "# Niveau de corrélation à partir duquel on supprime les variables corrélées\n",
    "threshold = 0.9\n",
    "\n",
    "# Matrice de corrélation\n",
    "corr_matrix = df_train.corr().abs()\n",
    "\n",
    "# Triangle supérieur de la matrice de corrélation\n",
    "upper = corr_matrix.where(np.triu(np.ones(corr_matrix.shape), k=1).astype(np.bool))\n",
    "\n",
    "# Colonnes corrélées à supprimer\n",
    "to_drop = [column for column in upper.columns if any(upper[column] > threshold)]\n",
    "print(f\"Il y a {len(to_drop)} colonnes corrélées à supprimer.\")"
   ]
  },
  {
   "cell_type": "code",
   "execution_count": 20,
   "metadata": {},
   "outputs": [],
   "source": [
    "df_train = df_train.drop(columns = to_drop, axis=1)\n",
    "df_test = df_test.drop(columns = to_drop, axis=1)"
   ]
  },
  {
   "cell_type": "code",
   "execution_count": 21,
   "metadata": {},
   "outputs": [
    {
     "name": "stdout",
     "output_type": "stream",
     "text": [
      "(215257, 815)\n",
      "(92254, 815)\n"
     ]
    }
   ],
   "source": [
    "print(df_train.shape)\n",
    "print(df_test.shape)"
   ]
  },
  {
   "cell_type": "markdown",
   "metadata": {},
   "source": [
    "# 4. Suppression des features avec trop de valeurs manquantes\n",
    "On va également supprimer les variables ayant trop de valeurs manquantes."
   ]
  },
  {
   "cell_type": "code",
   "execution_count": 22,
   "metadata": {},
   "outputs": [
    {
     "data": {
      "text/plain": [
       "previous_RATE_INTEREST_PRIVILEGED_min               0.984800\n",
       "card_balance_AMT_PAYMENT_CURRENT_min_min            0.801423\n",
       "card_balance_AMT_DRAWINGS_OTHER_CURRENT_mean_min    0.801103\n",
       "card_balance_AMT_DRAWINGS_ATM_CURRENT_max_min       0.801103\n",
       "card_balance_CNT_DRAWINGS_OTHER_CURRENT_max_min     0.801103\n",
       "dtype: float64"
      ]
     },
     "execution_count": 22,
     "metadata": {},
     "output_type": "execute_result"
    }
   ],
   "source": [
    "# Valeurs manquantes \n",
    "train_missing = (df_train.isnull().sum() / len(df_train)).sort_values(ascending = False)\n",
    "train_missing.head()"
   ]
  },
  {
   "cell_type": "markdown",
   "metadata": {},
   "source": [
    "On décide de garder les variables avec moins de 75% de valeurs manquantes."
   ]
  },
  {
   "cell_type": "code",
   "execution_count": 23,
   "metadata": {},
   "outputs": [
    {
     "name": "stdout",
     "output_type": "stream",
     "text": [
      "Il y a 16 colonnes avec des valeur manquantes à supprimer.\n"
     ]
    }
   ],
   "source": [
    "# Identify missing values above threshold\n",
    "train_missing = train_missing[train_missing > 0.75].index\n",
    "\n",
    "print(f\"Il y a {len(train_missing)} colonnes avec des valeur manquantes à supprimer.\")"
   ]
  },
  {
   "cell_type": "code",
   "execution_count": 24,
   "metadata": {},
   "outputs": [
    {
     "name": "stdout",
     "output_type": "stream",
     "text": [
      "(215257, 799)\n",
      "(92254, 799)\n"
     ]
    }
   ],
   "source": [
    "df_train = df_train.drop(columns = train_missing, axis=1)\n",
    "df_test = df_test.drop(columns = train_missing, axis=1)\n",
    "\n",
    "print(df_train.shape)\n",
    "print(df_test.shape)"
   ]
  },
  {
   "cell_type": "markdown",
   "metadata": {},
   "source": [
    "# 5. Sauvegarde des données pour les modèles\n",
    "On sauvegarde les données de de test et d'entrainement."
   ]
  },
  {
   "cell_type": "code",
   "execution_count": 25,
   "metadata": {},
   "outputs": [],
   "source": [
    "# Alignement des colonnes de du jeu de test sur celui du train avant sauvegarde\n",
    "df_train, df_test = df_train.align(df_test, join = 'left', axis=1)\n",
    "\n",
    "# sauvegarde des dataframes\n",
    "df_train.to_csv(\"data/features/train_features.csv\")\n",
    "df_test.to_csv(\"data/features/test_features.csv\")\n",
    "\n",
    "train_target.to_csv(\"data/features/train_target.csv\")\n",
    "test_target.to_csv(\"data/features/test_target.csv\")"
   ]
  },
  {
   "cell_type": "code",
   "execution_count": 26,
   "metadata": {
    "scrolled": true
   },
   "outputs": [
    {
     "name": "stdout",
     "output_type": "stream",
     "text": [
      "computing time : 1488.906388 sec\n",
      "computing time : 00:24:48\n"
     ]
    }
   ],
   "source": [
    "t1 = time()\n",
    "print(\"computing time : {:8.6f} sec\".format(t1-t0))\n",
    "print(\"computing time : \" + strftime('%H:%M:%S', gmtime(t1-t0)))"
   ]
  }
 ],
 "metadata": {
  "kernelspec": {
   "display_name": "Python 3",
   "language": "python",
   "name": "python3"
  },
  "language_info": {
   "codemirror_mode": {
    "name": "ipython",
    "version": 3
   },
   "file_extension": ".py",
   "mimetype": "text/x-python",
   "name": "python",
   "nbconvert_exporter": "python",
   "pygments_lexer": "ipython3",
   "version": "3.7.3"
  }
 },
 "nbformat": 4,
 "nbformat_minor": 2
}
